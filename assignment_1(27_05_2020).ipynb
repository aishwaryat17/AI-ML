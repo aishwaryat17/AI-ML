{
  "nbformat": 4,
  "nbformat_minor": 0,
  "metadata": {
    "colab": {
      "name": "assignment 1(27-05-2020)",
      "provenance": []
    },
    "kernelspec": {
      "name": "python3",
      "display_name": "Python 3"
    }
  },
  "cells": [
    {
      "cell_type": "code",
      "metadata": {
        "id": "A6GvEz9VgzgU",
        "colab_type": "code",
        "colab": {
          "base_uri": "https://localhost:8080/",
          "height": 118
        },
        "outputId": "22775548-cb82-4a46-eec0-20b479809418"
      },
      "source": [
        "# 1. Generate the following pattern\n",
        "\n",
        "rows = int(input(\"Enter number of rows \"))\n",
        "for i in range(0, rows):\n",
        "    for j in range(0, i + 1):\n",
        "        print(\"*\", end=' ')\n",
        "\n",
        "    print(\"\\r\")"
      ],
      "execution_count": 1,
      "outputs": [
        {
          "output_type": "stream",
          "text": [
            "Enter number of rows 5\n",
            "* \n",
            "* * \n",
            "* * * \n",
            "* * * * \n",
            "* * * * * \n"
          ],
          "name": "stdout"
        }
      ]
    },
    {
      "cell_type": "code",
      "metadata": {
        "id": "zBXL7ALEg_oX",
        "colab_type": "code",
        "colab": {
          "base_uri": "https://localhost:8080/",
          "height": 202
        },
        "outputId": "28f415a2-ab3d-4e28-d1fe-d0c9ae7af811"
      },
      "source": [
        "# 2. Display multiplication table of K. Take k value from user\n",
        "\n",
        "num = int(input(\"Enter number\"))\n",
        "for i in range(1,11):  \n",
        "   print(num,'x',i,'=',num*i)"
      ],
      "execution_count": 2,
      "outputs": [
        {
          "output_type": "stream",
          "text": [
            "Enter number12\n",
            "12 x 1 = 12\n",
            "12 x 2 = 24\n",
            "12 x 3 = 36\n",
            "12 x 4 = 48\n",
            "12 x 5 = 60\n",
            "12 x 6 = 72\n",
            "12 x 7 = 84\n",
            "12 x 8 = 96\n",
            "12 x 9 = 108\n",
            "12 x 10 = 120\n"
          ],
          "name": "stdout"
        }
      ]
    },
    {
      "cell_type": "code",
      "metadata": {
        "id": "TJRX4eEThGu2",
        "colab_type": "code",
        "colab": {
          "base_uri": "https://localhost:8080/",
          "height": 34
        },
        "outputId": "815e6b77-f864-4380-b474-d59ee2329e45"
      },
      "source": [
        "# 3. Roots of quadratic equation\n",
        "\n",
        "import cmath\n",
        "\n",
        "a = 1\n",
        "b = 5\n",
        "c = 6\n",
        "d = (b**2) - (4*a*c)\n",
        "sol1 = (-b-cmath.sqrt(d))/(2*a)\n",
        "sol2 = (-b+cmath.sqrt(d))/(2*a)\n",
        "print('The solution is {0} and {1}'.format(sol1,sol2))"
      ],
      "execution_count": 3,
      "outputs": [
        {
          "output_type": "stream",
          "text": [
            "The solution is (-3+0j) and (-2+0j)\n"
          ],
          "name": "stdout"
        }
      ]
    },
    {
      "cell_type": "code",
      "metadata": {
        "id": "kPlBNojGhMR7",
        "colab_type": "code",
        "colab": {
          "base_uri": "https://localhost:8080/",
          "height": 50
        },
        "outputId": "3f55b26e-98dc-4afb-911e-4e070aa2faf2"
      },
      "source": [
        "# 4. Convert a decimal number to Binary\n",
        "\n",
        "number = int(input(\"Enter any decimal number: \"))\n",
        "print(\"Equivalent Binary Number: \", bin(number))"
      ],
      "execution_count": 4,
      "outputs": [
        {
          "output_type": "stream",
          "text": [
            "Enter any decimal number: 12\n",
            "Equivalent Binary Number:  0b1100\n"
          ],
          "name": "stdout"
        }
      ]
    },
    {
      "cell_type": "code",
      "metadata": {
        "id": "S4HJbUijhQO1",
        "colab_type": "code",
        "colab": {
          "base_uri": "https://localhost:8080/",
          "height": 34
        },
        "outputId": "5a17d2f2-aa05-4506-f9b9-89603d8b4895"
      },
      "source": [
        "# 5. Generate first N number of Fibonacci numbers.\n",
        "\n",
        "def printFibonacciNumbers(n): \n",
        "    f1 = 0\n",
        "    f2 = 1\n",
        "    if (n < 1): \n",
        "        return\n",
        "    for x in range(0, n): \n",
        "        print(f2, end = \" \") \n",
        "        next = f1 + f2 \n",
        "        f1 = f2 \n",
        "        f2 = next\n",
        "\n",
        "printFibonacciNumbers(7)"
      ],
      "execution_count": 5,
      "outputs": [
        {
          "output_type": "stream",
          "text": [
            "1 1 2 3 5 8 13 "
          ],
          "name": "stdout"
        }
      ]
    },
    {
      "cell_type": "code",
      "metadata": {
        "id": "HSUGTdE3hX49",
        "colab_type": "code",
        "colab": {}
      },
      "source": [
        ""
      ],
      "execution_count": 0,
      "outputs": []
    }
  ]
}